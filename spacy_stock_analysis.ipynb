{
 "cells": [
  {
   "cell_type": "code",
   "execution_count": 12,
   "id": "b3ab7785-45f6-406c-9723-b88e486a115d",
   "metadata": {},
   "outputs": [],
   "source": [
    "import spacy\n",
    "import pandas as pd"
   ]
  },
  {
   "cell_type": "code",
   "execution_count": 13,
   "id": "7a4ef4fa-46ee-4db2-993b-e9aee826094e",
   "metadata": {},
   "outputs": [],
   "source": [
    "#source: https://www.reuters.com/business/futures-rise-after-biden-xi-call-oil-bounce-2021-09-10/\n",
    "text = '''\n",
    "Sept 10 (Reuters) - Wall Street's main indexes were subdued on Friday as signs of higher inflation and a drop in Apple shares following an unfavorable court ruling offset expectations of an easing in U.S.-China tensions.\n",
    "\n",
    "Data earlier in the day showed U.S. producer prices rose solidly in August, leading to the biggest annual gain in nearly 11 years and indicating that high inflation was likely to persist as the pandemic pressures supply chains. read more .\n",
    "\n",
    "\"Today's data on wholesale prices should be eye-opening for the Federal Reserve, as inflation pressures still don't appear to be easing and will likely continue to be felt by the consumer in the coming months,\" said Charlie Ripley, senior investment strategist for Allianz Investment Management.\n",
    "\n",
    "Apple Inc (AAPL.O) fell 2.7% following a U.S. court ruling in \"Fortnite\" creator Epic Games' antitrust lawsuit that stroke down some of the iPhone maker's restrictions on how developers can collect payments in apps.\n",
    "\n",
    "\n",
    "Sponsored by Advertising Partner\n",
    "Sponsored Video\n",
    "Watch to learn more\n",
    "Report ad\n",
    "Apple shares were set for their worst single-day fall since May this year, weighing on the Nasdaq (.IXIC) and the S&P 500 technology sub-index (.SPLRCT), which fell 0.1%.\n",
    "\n",
    "Sentiment also took a hit from Cleveland Federal Reserve Bank President Loretta Mester's comments that she would still like the central bank to begin tapering asset purchases this year despite the weak August jobs report. read more\n",
    "\n",
    "Investors have paid keen attention to the labor market and data hinting towards higher inflation recently for hints on a timeline for the Federal Reserve to begin tapering its massive bond-buying program.\n",
    "\n",
    "The S&P 500 has risen around 19% so far this year on support from dovish central bank policies and re-opening optimism, but concerns over rising coronavirus infections and accelerating inflation have lately stalled its advance.\n",
    "\n",
    "\n",
    "Report ad\n",
    "The three main U.S. indexes got some support on Friday from news of a phone call between U.S. President Joe Biden and Chinese leader Xi Jinping that was taken as a positive sign which could bring a thaw in ties between the world's two most important trading partners.\n",
    "\n",
    "At 1:01 p.m. ET, the Dow Jones Industrial Average (.DJI) was up 12.24 points, or 0.04%, at 34,891.62, the S&P 500 (.SPX) was up 2.83 points, or 0.06%, at 4,496.11, and the Nasdaq Composite (.IXIC) was up 12.85 points, or 0.08%, at 15,261.11.\n",
    "\n",
    "Six of the eleven S&P 500 sub-indexes gained, with energy (.SPNY), materials (.SPLRCM) and consumer discretionary stocks (.SPLRCD) rising the most.\n",
    "\n",
    "U.S.-listed Chinese e-commerce companies Alibaba and JD.com , music streaming company Tencent Music (TME.N) and electric car maker Nio Inc (NIO.N) all gained between 0.7% and 1.4%\n",
    "\n",
    "\n",
    "Report ad\n",
    "Grocer Kroger Co (KR.N) dropped 7.1% after it said global supply chain disruptions, freight costs, discounts and wastage would hit its profit margins.\n",
    "\n",
    "Advancing issues outnumbered decliners by a 1.12-to-1 ratio on the NYSE and by a 1.02-to-1 ratio on the Nasdaq.\n",
    "\n",
    "The S&P index recorded 14 new 52-week highs and three new lows, while the Nasdaq recorded 49 new highs and 38 new lows.\n",
    "'''"
   ]
  },
  {
   "cell_type": "markdown",
   "id": "71e3e58a-1c15-440a-8708-d36f6783eabe",
   "metadata": {},
   "source": [
    "TEST 1 ON SPACY STOCK ANALYSIS"
   ]
  },
  {
   "cell_type": "code",
   "execution_count": 14,
   "id": "6889e209-866d-4e40-a53b-b5b7e59382ad",
   "metadata": {},
   "outputs": [],
   "source": [
    "nlp = spacy.load(\"en_core_web_md\")"
   ]
  },
  {
   "cell_type": "code",
   "execution_count": 15,
   "id": "81df44bb-1f18-4e4a-8e5a-5d4334eb5f77",
   "metadata": {},
   "outputs": [],
   "source": [
    "doc = nlp(text)\n",
    "\n",
    "#EXTRACT ALL ENTITIES: COMPANIES, STOCKS, INDEXES AND STOCK EXCHANGES"
   ]
  },
  {
   "cell_type": "code",
   "execution_count": 5,
   "id": "c3cc1483-4a20-44d0-b981-60fda9bb0851",
   "metadata": {
    "scrolled": true
   },
   "outputs": [
    {
     "name": "stdout",
     "output_type": "stream",
     "text": [
      "Sept 10 DATE\n",
      "Reuters ORG\n",
      "Friday DATE\n",
      "Apple ORG\n",
      "U.S.-China GPE\n",
      "Data ORG\n",
      "earlier in the day DATE\n",
      "U.S. GPE\n",
      "August DATE\n",
      "annual DATE\n",
      "nearly 11 years DATE\n",
      "Today WORK_OF_ART\n",
      "the Federal Reserve ORG\n",
      "the coming months DATE\n",
      "Charlie Ripley PERSON\n",
      "Allianz Investment Management ORG\n",
      "Apple Inc ORG\n",
      "AAPL.O ORG\n",
      "2.7% PERCENT\n",
      "U.S. GPE\n",
      "Fortnite WORK_OF_ART\n",
      "Epic Games' WORK_OF_ART\n",
      "iPhone ORG\n",
      "Apple ORG\n",
      "May this year DATE\n",
      ".IXIC CARDINAL\n",
      "0.1% PERCENT\n",
      "Cleveland Federal Reserve Bank ORG\n",
      "Loretta Mester's PERSON\n",
      "this year DATE\n",
      "August DATE\n",
      "the Federal Reserve ORG\n",
      "around 19% PERCENT\n",
      "this year DATE\n",
      "dovish central bank ORG\n",
      "three CARDINAL\n",
      "U.S. GPE\n",
      "Friday DATE\n",
      "U.S. GPE\n",
      "Joe Biden PERSON\n",
      "Chinese NORP\n",
      "Xi Jinping PERSON\n",
      "two CARDINAL\n",
      "1:01 p.m. ET TIME\n",
      "12.24 CARDINAL\n",
      "0.04% PERCENT\n",
      "34,891.62 ORG\n",
      "2.83 CARDINAL\n",
      "0.06% PERCENT\n",
      "4,496.11 CARDINAL\n",
      "12.85 CARDINAL\n",
      "0.08% PERCENT\n",
      "Six CARDINAL\n",
      "eleven CARDINAL\n",
      "Chinese NORP\n",
      "Alibaba ORG\n",
      "JD.com ORG\n",
      "Tencent Music ORG\n",
      "Nio Inc ORG\n",
      "NIO.N ORG\n",
      "between 0.7% and 1.4% PERCENT\n",
      "Grocer Kroger Co ORG\n",
      "7.1% PERCENT\n",
      "1.12 CARDINAL\n",
      "NYSE ORG\n",
      "1.02 CARDINAL\n",
      "Nasdaq ORG\n",
      "S&P ORG\n",
      "14 CARDINAL\n",
      "52-week DATE\n",
      "three CARDINAL\n",
      "Nasdaq ORG\n",
      "49 CARDINAL\n",
      "38 CARDINAL\n"
     ]
    }
   ],
   "source": [
    "for ent in doc.ents:\n",
    "    print(ent.text, ent.label_)\n",
    "\n",
    "#The Result from spacy is too broad"
   ]
  },
  {
   "cell_type": "code",
   "execution_count": null,
   "id": "451d3967-fcb4-4112-aa85-27846e4cf233",
   "metadata": {},
   "outputs": [],
   "source": []
  },
  {
   "cell_type": "markdown",
   "id": "c8b409d4-cb0d-4340-9603-28e83f00c6ae",
   "metadata": {},
   "source": [
    "OBTAIN NEEDED DOCUMENTS"
   ]
  },
  {
   "cell_type": "code",
   "execution_count": 6,
   "id": "713c9c8d-3bb4-4bf4-be8e-4cf17df07f6c",
   "metadata": {},
   "outputs": [
    {
     "name": "stdout",
     "output_type": "stream",
     "text": [
      "                 Exchange Name        Country    Code Currency Stocks\n",
      "0                       US OTC  United States     OTC      USD   7458\n",
      "1         Tokyo Stock Exchange          Japan     TYO      JPY   3873\n",
      "2          Nasdaq Stock Market  United States  NASDAQ      USD   3328\n",
      "3      Shenzhen Stock Exchange          China     SHE      CNY   2808\n",
      "4        Bombay Stock Exchange          India     BOM      INR   2577\n",
      "..                         ...            ...     ...      ...    ...\n",
      "107      Beirut Stock Exchange        Lebanon     BDB      LBP      8\n",
      "108  Bratislava Stock Exchange       Slovakia    BSSE      EUR      6\n",
      "109        PFTS Stock Exchange        Ukraine     UKR      UAH      6\n",
      "110                CBOE Europe         Europe    CHIX      EUR      5\n",
      "111    Zimbabwe Stock Exchange       Zimbabwe    ZMSE      ZWL      5\n",
      "\n",
      "[112 rows x 5 columns]\n"
     ]
    }
   ],
   "source": [
    "import requests\n",
    "from bs4 import BeautifulSoup\n",
    "import pandas as pd\n",
    "\n",
    "url = \"https://stockanalysis.com/list/exchanges/\"\n",
    "\n",
    "response = requests.get(url)\n",
    "\n",
    "if response.status_code == 200:\n",
    "    # Parse the HTML content\n",
    "    soup = BeautifulSoup(response.content, 'lxml')\n",
    "    table = soup.find('table')\n",
    "    headers = [header.text.strip() for header in table.find_all('th')]\n",
    "\n",
    "    # Extract rows\n",
    "    rows = []\n",
    "    for row in table.find_all('tr'):\n",
    "        columns = row.find_all('td')\n",
    "        if columns:\n",
    "            rows.append([column.text.strip() for column in columns])\n",
    "\n",
    "    df = pd.DataFrame(rows, columns=headers)\n",
    "\n",
    "    # Display the DataFrame\n",
    "    print(df)\n"
   ]
  },
  {
   "cell_type": "code",
   "execution_count": 7,
   "id": "b979aca5-5cb8-4875-8d42-e853478fab70",
   "metadata": {},
   "outputs": [],
   "source": [
    "df.to_csv(\"stock_exchanges.csv\", index=False)"
   ]
  },
  {
   "cell_type": "markdown",
   "id": "adec4b1a-186f-4e36-9785-c0bfe000fb5f",
   "metadata": {},
   "source": [
    "SCRAPING STOCK DATA SECTOR BY SECTOR"
   ]
  },
  {
   "cell_type": "code",
   "execution_count": 8,
   "id": "10b4e0fc-1a77-4b3c-848e-6101b9ee5433",
   "metadata": {},
   "outputs": [],
   "source": [
    "#Scraping Data sector by sector\n",
    "finance_url = \"https://stockanalysis.com/stocks/sector/financials/\"\n",
    "\n",
    "response = requests.get(finance_url)\n",
    "soup = BeautifulSoup(response.content, 'lxml')\n",
    "table = soup.find('table')\n",
    "\n",
    "fin_headers = [header.text.strip() for header in table.find_all('th')]\n",
    "\n",
    "rows = []\n",
    "for row in table.find_all('tr'):\n",
    "    fin_columns = row.find_all('td')\n",
    "    if columns:\n",
    "        rows.append([column.text.strip() for column in fin_columns])\n",
    "\n",
    "fin_df = pd.DataFrame(rows, columns=fin_headers)"
   ]
  },
  {
   "cell_type": "code",
   "execution_count": 16,
   "id": "19335ccf-a8a7-481a-bac1-ba3ce085a581",
   "metadata": {},
   "outputs": [],
   "source": [
    "tech_url = \"https://stockanalysis.com/stocks/sector/technology/\"\n",
    "\n",
    "response = requests.get(tech_url)\n",
    "soup = BeautifulSoup(response.content, 'lxml')\n",
    "table = soup.find('table')\n",
    "\n",
    "tech_headers = [header.text.strip() for header in table.find_all('th')]\n",
    "\n",
    "rows = []\n",
    "for row in table.find_all('tr'):\n",
    "    tech_columns = row.find_all('td')\n",
    "    if columns:\n",
    "        rows.append([column.text.strip() for column in tech_columns])\n",
    "\n",
    "tech_df = pd.DataFrame(rows, columns=tech_headers)"
   ]
  },
  {
   "cell_type": "code",
   "execution_count": 17,
   "id": "91cc52e3-abc9-4524-96ed-0493f51b2a4d",
   "metadata": {},
   "outputs": [],
   "source": [
    "consumer_url = \"https://stockanalysis.com/stocks/sector/consumer-discretionary/\"\n",
    "\n",
    "response = requests.get(consumer_url)\n",
    "soup = BeautifulSoup(response.content, 'lxml')\n",
    "table = soup.find('table')\n",
    "\n",
    "cons_headers = [header.text.strip() for header in table.find_all('th')]\n",
    "\n",
    "rows = []\n",
    "for row in table.find_all('tr'):\n",
    "    cons_columns = row.find_all('td')\n",
    "    if columns:\n",
    "        rows.append([column.text.strip() for column in cons_columns])\n",
    "\n",
    "consumer_df = pd.DataFrame(rows, columns=cons_headers)"
   ]
  },
  {
   "cell_type": "code",
   "execution_count": 18,
   "id": "869b5387-da92-4dcf-b286-36557cdd9204",
   "metadata": {},
   "outputs": [],
   "source": [
    "comms_url =\"https://stockanalysis.com/stocks/sector/communication-services/\"\n",
    "\n",
    "response = requests.get(comms_url)\n",
    "soup = BeautifulSoup(response.content, 'lxml')\n",
    "table = soup.find('table')\n",
    "\n",
    "comms_headers = [header.text.strip() for header in table.find_all('th')]\n",
    "\n",
    "rows = []\n",
    "for row in table.find_all('tr'):\n",
    "    comms_columns = row.find_all('td')\n",
    "    if columns:\n",
    "        rows.append([column.text.strip() for column in comms_columns])\n",
    "\n",
    "comms_df = pd.DataFrame(rows, columns=comms_headers)"
   ]
  },
  {
   "cell_type": "code",
   "execution_count": 19,
   "id": "045fa826-a6a5-4fd4-97a1-096163f156c4",
   "metadata": {},
   "outputs": [],
   "source": [
    "energy_url =\"https://stockanalysis.com/stocks/sector/energy/\"\n",
    "\n",
    "response = requests.get(energy_url)\n",
    "soup = BeautifulSoup(response.content, 'lxml')\n",
    "table = soup.find('table')\n",
    "\n",
    "energy_headers = [header.text.strip() for header in table.find_all('th')]\n",
    "\n",
    "rows = []\n",
    "for row in table.find_all('tr'):\n",
    "    energy_columns = row.find_all('td')\n",
    "    if columns:\n",
    "        rows.append([column.text.strip() for column in energy_columns])\n",
    "\n",
    "energy_df = pd.DataFrame(rows, columns=energy_headers)"
   ]
  },
  {
   "cell_type": "code",
   "execution_count": 20,
   "id": "f13bbb10-2d11-4545-8f6e-92384edfe01d",
   "metadata": {},
   "outputs": [],
   "source": [
    "shopping_url =\"https://stockanalysis.com/stocks/sector/consumer-staples/\"\n",
    "\n",
    "response = requests.get(shopping_url)\n",
    "soup = BeautifulSoup(response.content, 'lxml')\n",
    "table = soup.find('table')\n",
    "\n",
    "shopping_headers = [header.text.strip() for header in table.find_all('th')]\n",
    "\n",
    "rows = []\n",
    "for row in table.find_all('tr'):\n",
    "    shopping_columns = row.find_all('td')\n",
    "    if columns:\n",
    "        rows.append([column.text.strip() for column in shopping_columns])\n",
    "\n",
    "shopping_df = pd.DataFrame(rows, columns=shopping_headers)"
   ]
  },
  {
   "cell_type": "code",
   "execution_count": 21,
   "id": "68b3719a-812c-4a5d-8cce-b3df5528bbe4",
   "metadata": {},
   "outputs": [],
   "source": [
    "stocks_data = pd.concat([fin_df, tech_df,consumer_df, comms_df, energy_df, shopping_df])"
   ]
  },
  {
   "cell_type": "code",
   "execution_count": 26,
   "id": "2c6ca2e4-cefe-4d6c-bb03-99831d91b9b7",
   "metadata": {},
   "outputs": [],
   "source": [
    "stocks_data = stocks_data[1:] #Not all publicly traded stocks are here. Just most relevant sectors"
   ]
  },
  {
   "cell_type": "code",
   "execution_count": 28,
   "id": "4c21535f-98a7-46e8-ad3a-d5a3826f21ef",
   "metadata": {},
   "outputs": [
    {
     "data": {
      "text/html": [
       "<div>\n",
       "<style scoped>\n",
       "    .dataframe tbody tr th:only-of-type {\n",
       "        vertical-align: middle;\n",
       "    }\n",
       "\n",
       "    .dataframe tbody tr th {\n",
       "        vertical-align: top;\n",
       "    }\n",
       "\n",
       "    .dataframe thead th {\n",
       "        text-align: right;\n",
       "    }\n",
       "</style>\n",
       "<table border=\"1\" class=\"dataframe\">\n",
       "  <thead>\n",
       "    <tr style=\"text-align: right;\">\n",
       "      <th></th>\n",
       "      <th>No.</th>\n",
       "      <th>Symbol</th>\n",
       "      <th>Company Name</th>\n",
       "      <th>Market Cap</th>\n",
       "      <th>% Change</th>\n",
       "      <th>Volume</th>\n",
       "      <th>Revenue</th>\n",
       "    </tr>\n",
       "  </thead>\n",
       "  <tbody>\n",
       "    <tr>\n",
       "      <th>1</th>\n",
       "      <td>1</td>\n",
       "      <td>BRK.B</td>\n",
       "      <td>Berkshire Hathaway Inc.</td>\n",
       "      <td>982.24B</td>\n",
       "      <td>-0.21%</td>\n",
       "      <td>1,715,705</td>\n",
       "      <td>370.11B</td>\n",
       "    </tr>\n",
       "    <tr>\n",
       "      <th>2</th>\n",
       "      <td>2</td>\n",
       "      <td>JPM</td>\n",
       "      <td>JPMorgan Chase &amp; Co.</td>\n",
       "      <td>605.56B</td>\n",
       "      <td>-0.27%</td>\n",
       "      <td>5,836,018</td>\n",
       "      <td>161.00B</td>\n",
       "    </tr>\n",
       "    <tr>\n",
       "      <th>3</th>\n",
       "      <td>3</td>\n",
       "      <td>V</td>\n",
       "      <td>Visa Inc.</td>\n",
       "      <td>527.85B</td>\n",
       "      <td>0.20%</td>\n",
       "      <td>3,187,063</td>\n",
       "      <td>34.92B</td>\n",
       "    </tr>\n",
       "    <tr>\n",
       "      <th>4</th>\n",
       "      <td>4</td>\n",
       "      <td>MA</td>\n",
       "      <td>Mastercard Incorporated</td>\n",
       "      <td>460.09B</td>\n",
       "      <td>-0.39%</td>\n",
       "      <td>1,074,598</td>\n",
       "      <td>26.39B</td>\n",
       "    </tr>\n",
       "    <tr>\n",
       "      <th>5</th>\n",
       "      <td>5</td>\n",
       "      <td>BAC</td>\n",
       "      <td>Bank of America Corporation</td>\n",
       "      <td>310.15B</td>\n",
       "      <td>-0.55%</td>\n",
       "      <td>24,443,373</td>\n",
       "      <td>94.76B</td>\n",
       "    </tr>\n",
       "    <tr>\n",
       "      <th>...</th>\n",
       "      <td>...</td>\n",
       "      <td>...</td>\n",
       "      <td>...</td>\n",
       "      <td>...</td>\n",
       "      <td>...</td>\n",
       "      <td>...</td>\n",
       "      <td>...</td>\n",
       "    </tr>\n",
       "    <tr>\n",
       "      <th>238</th>\n",
       "      <td>238</td>\n",
       "      <td>TANH</td>\n",
       "      <td>Tantech Holdings Ltd</td>\n",
       "      <td>1.46M</td>\n",
       "      <td>5.60%</td>\n",
       "      <td>4,635,117</td>\n",
       "      <td>47.32M</td>\n",
       "    </tr>\n",
       "    <tr>\n",
       "      <th>239</th>\n",
       "      <td>239</td>\n",
       "      <td>BSFC</td>\n",
       "      <td>Blue Star Foods Corp.</td>\n",
       "      <td>1.33M</td>\n",
       "      <td>2.18%</td>\n",
       "      <td>2,995,476</td>\n",
       "      <td>6.61M</td>\n",
       "    </tr>\n",
       "    <tr>\n",
       "      <th>240</th>\n",
       "      <td>240</td>\n",
       "      <td>EAST</td>\n",
       "      <td>Eastside Distilling, Inc.</td>\n",
       "      <td>1.01M</td>\n",
       "      <td>-0.89%</td>\n",
       "      <td>29,907</td>\n",
       "      <td>10.35M</td>\n",
       "    </tr>\n",
       "    <tr>\n",
       "      <th>241</th>\n",
       "      <td>241</td>\n",
       "      <td>EDBL</td>\n",
       "      <td>Edible Garden AG Incorporated</td>\n",
       "      <td>649.78K</td>\n",
       "      <td>4.10%</td>\n",
       "      <td>787,468</td>\n",
       "      <td>14.77M</td>\n",
       "    </tr>\n",
       "    <tr>\n",
       "      <th>242</th>\n",
       "      <td>242</td>\n",
       "      <td>STKH</td>\n",
       "      <td>Steakholder Foods Ltd.</td>\n",
       "      <td>461.47K</td>\n",
       "      <td>-2.60%</td>\n",
       "      <td>5,996</td>\n",
       "      <td>-</td>\n",
       "    </tr>\n",
       "  </tbody>\n",
       "</table>\n",
       "<p>3018 rows × 7 columns</p>\n",
       "</div>"
      ],
      "text/plain": [
       "     No. Symbol                   Company Name Market Cap % Change  \\\n",
       "1      1  BRK.B        Berkshire Hathaway Inc.    982.24B   -0.21%   \n",
       "2      2    JPM           JPMorgan Chase & Co.    605.56B   -0.27%   \n",
       "3      3      V                      Visa Inc.    527.85B    0.20%   \n",
       "4      4     MA        Mastercard Incorporated    460.09B   -0.39%   \n",
       "5      5    BAC    Bank of America Corporation    310.15B   -0.55%   \n",
       "..   ...    ...                            ...        ...      ...   \n",
       "238  238   TANH           Tantech Holdings Ltd      1.46M    5.60%   \n",
       "239  239   BSFC          Blue Star Foods Corp.      1.33M    2.18%   \n",
       "240  240   EAST      Eastside Distilling, Inc.      1.01M   -0.89%   \n",
       "241  241   EDBL  Edible Garden AG Incorporated    649.78K    4.10%   \n",
       "242  242   STKH         Steakholder Foods Ltd.    461.47K   -2.60%   \n",
       "\n",
       "         Volume  Revenue  \n",
       "1     1,715,705  370.11B  \n",
       "2     5,836,018  161.00B  \n",
       "3     3,187,063   34.92B  \n",
       "4     1,074,598   26.39B  \n",
       "5    24,443,373   94.76B  \n",
       "..          ...      ...  \n",
       "238   4,635,117   47.32M  \n",
       "239   2,995,476    6.61M  \n",
       "240      29,907   10.35M  \n",
       "241     787,468   14.77M  \n",
       "242       5,996        -  \n",
       "\n",
       "[3018 rows x 7 columns]"
      ]
     },
     "execution_count": 28,
     "metadata": {},
     "output_type": "execute_result"
    }
   ],
   "source": [
    "stocks_data"
   ]
  },
  {
   "cell_type": "code",
   "execution_count": 27,
   "id": "346c19e8-8d35-44b0-90d1-6569a8fd0f2e",
   "metadata": {},
   "outputs": [],
   "source": [
    "stocks_data.to_csv('stocks_data.csv', index=False)"
   ]
  },
  {
   "cell_type": "markdown",
   "id": "2a40ba52-23dd-43eb-84ed-c565f8f10fba",
   "metadata": {},
   "source": [
    "STOCK ANALYSIS using custom pipe"
   ]
  },
  {
   "cell_type": "code",
   "execution_count": 40,
   "id": "164f4d4d-b40f-43b0-b6ad-d51486ba0912",
   "metadata": {},
   "outputs": [],
   "source": [
    "indices_url =\"https://finance.yahoo.com/markets/world-indices/\"\n",
    "\n",
    "\n",
    "response = requests.get(indices_url)\n",
    "soup = BeautifulSoup(response.content, 'lxml')\n",
    "table = soup.find('table')\n",
    "\n",
    "ind_headers = [header.text.strip() for header in table.find_all('th')]\n",
    "\n",
    "rows = []\n",
    "for row in table.find_all('tr'):\n",
    "    ind_columns = row.find_all('td')\n",
    "    if columns:\n",
    "        rows.append([column.text.strip() for column in ind_columns])\n",
    "\n",
    "indices_df = pd.DataFrame(rows, columns=ind_headers)"
   ]
  },
  {
   "cell_type": "code",
   "execution_count": 42,
   "id": "978b1ac7-09b3-477a-a8c4-f32721b65331",
   "metadata": {
    "scrolled": true
   },
   "outputs": [],
   "source": [
    "indices_df = indices_df['Symbol'][1:]"
   ]
  },
  {
   "cell_type": "code",
   "execution_count": 54,
   "id": "c303345a-dae0-432e-9008-745412fb0574",
   "metadata": {},
   "outputs": [
    {
     "ename": "AttributeError",
     "evalue": "'Series' object has no attribute 'split'",
     "output_type": "error",
     "traceback": [
      "\u001b[1;31m---------------------------------------------------------------------------\u001b[0m",
      "\u001b[1;31mAttributeError\u001b[0m                            Traceback (most recent call last)",
      "\u001b[1;32m~\\AppData\\Local\\Temp\\ipykernel_8784\\3000880927.py\u001b[0m in \u001b[0;36m?\u001b[1;34m()\u001b[0m\n\u001b[1;32m----> 1\u001b[1;33m \u001b[0mindices_df\u001b[0m\u001b[1;33m.\u001b[0m\u001b[0msplit\u001b[0m\u001b[1;33m(\u001b[0m\u001b[1;33m)\u001b[0m\u001b[1;33m\u001b[0m\u001b[1;33m\u001b[0m\u001b[0m\n\u001b[0m",
      "\u001b[1;32m~\\AppData\\Local\\Programs\\Python\\Python311\\Lib\\site-packages\\pandas\\core\\generic.py\u001b[0m in \u001b[0;36m?\u001b[1;34m(self, name)\u001b[0m\n\u001b[0;32m   6295\u001b[0m             \u001b[1;32mand\u001b[0m \u001b[0mname\u001b[0m \u001b[1;32mnot\u001b[0m \u001b[1;32min\u001b[0m \u001b[0mself\u001b[0m\u001b[1;33m.\u001b[0m\u001b[0m_accessors\u001b[0m\u001b[1;33m\u001b[0m\u001b[1;33m\u001b[0m\u001b[0m\n\u001b[0;32m   6296\u001b[0m             \u001b[1;32mand\u001b[0m \u001b[0mself\u001b[0m\u001b[1;33m.\u001b[0m\u001b[0m_info_axis\u001b[0m\u001b[1;33m.\u001b[0m\u001b[0m_can_hold_identifiers_and_holds_name\u001b[0m\u001b[1;33m(\u001b[0m\u001b[0mname\u001b[0m\u001b[1;33m)\u001b[0m\u001b[1;33m\u001b[0m\u001b[1;33m\u001b[0m\u001b[0m\n\u001b[0;32m   6297\u001b[0m         ):\n\u001b[0;32m   6298\u001b[0m             \u001b[1;32mreturn\u001b[0m \u001b[0mself\u001b[0m\u001b[1;33m[\u001b[0m\u001b[0mname\u001b[0m\u001b[1;33m]\u001b[0m\u001b[1;33m\u001b[0m\u001b[1;33m\u001b[0m\u001b[0m\n\u001b[1;32m-> 6299\u001b[1;33m         \u001b[1;32mreturn\u001b[0m \u001b[0mobject\u001b[0m\u001b[1;33m.\u001b[0m\u001b[0m__getattribute__\u001b[0m\u001b[1;33m(\u001b[0m\u001b[0mself\u001b[0m\u001b[1;33m,\u001b[0m \u001b[0mname\u001b[0m\u001b[1;33m)\u001b[0m\u001b[1;33m\u001b[0m\u001b[1;33m\u001b[0m\u001b[0m\n\u001b[0m",
      "\u001b[1;31mAttributeError\u001b[0m: 'Series' object has no attribute 'split'"
     ]
    }
   ],
   "source": [
    "indices_df.split()"
   ]
  },
  {
   "cell_type": "code",
   "execution_count": null,
   "id": "75b8059a-1b89-4209-acc1-0f9328449563",
   "metadata": {},
   "outputs": [],
   "source": []
  },
  {
   "cell_type": "code",
   "execution_count": null,
   "id": "34038c37-a409-4081-9202-2f8c7c1bbe49",
   "metadata": {},
   "outputs": [],
   "source": []
  },
  {
   "cell_type": "code",
   "execution_count": null,
   "id": "1585c744-8801-4e96-834d-763b1427d283",
   "metadata": {},
   "outputs": [],
   "source": []
  },
  {
   "cell_type": "code",
   "execution_count": 55,
   "id": "2cd0c011-c183-4c51-ade3-d8b415642db4",
   "metadata": {},
   "outputs": [],
   "source": [
    "indices_url =\"https://markets.businessinsider.com/indices\"\n",
    "\n",
    "\n",
    "response = requests.get(indices_url)\n",
    "soup = BeautifulSoup(response.content, 'lxml')\n",
    "table = soup.find('table')\n",
    "\n",
    "bi_headers = [header.text.strip() for header in table.find_all('th')]\n",
    "\n",
    "rows = []\n",
    "for row in table.find_all('tr'):\n",
    "    bi_columns = row.find_all('td')\n",
    "    if columns:\n",
    "        rows.append([column.text.strip() for column in bi_columns])\n",
    "\n",
    "indi_df = pd.DataFrame(rows, columns=bi_headers[:5])"
   ]
  },
  {
   "cell_type": "code",
   "execution_count": null,
   "id": "569d306c-d2ae-485a-b5c7-34bfc744dd1b",
   "metadata": {},
   "outputs": [],
   "source": [
    "indi_df['country'] = indi_df[['Name\\nCountry']].apply(lambda x:x.split())"
   ]
  },
  {
   "cell_type": "code",
   "execution_count": null,
   "id": "294d8db1-3bff-4a16-8ffe-36acefd27c0c",
   "metadata": {},
   "outputs": [],
   "source": []
  },
  {
   "cell_type": "code",
   "execution_count": 29,
   "id": "6618a6db-0fb3-43af-8de6-ce92baa1dbd9",
   "metadata": {},
   "outputs": [],
   "source": [
    "nlp2 = spacy.blank('en')\n",
    "\n",
    "ruler =  nlp2.add_pipe(\"entity_ruler\")"
   ]
  },
  {
   "cell_type": "code",
   "execution_count": 31,
   "id": "b0eb334d-dcce-434d-87be-d7bd713f80ba",
   "metadata": {},
   "outputs": [],
   "source": [
    "synbols = stocks_data.Symbol.tolist()\n",
    "companies = stocks_data['Company Name'].tolist()"
   ]
  },
  {
   "cell_type": "code",
   "execution_count": 35,
   "id": "470cfe67-f8f0-4c3b-91f6-96a40a6e5f8f",
   "metadata": {},
   "outputs": [],
   "source": [
    "exchanges = df.Code.tolist()\n",
    "exchange_names = df['Exchange Name'].tolist()"
   ]
  },
  {
   "cell_type": "code",
   "execution_count": null,
   "id": "b7d9c9ef-6b0f-4f64-b4e4-1c32679be2fb",
   "metadata": {},
   "outputs": [],
   "source": [
    "patterns = []\n",
    "\n",
    "for symbol in symbols:\n",
    "    patterns.append({\"label\": \"STOCK\", \"pattern\": symbol})\n",
    "\n",
    "for company in companies:\n",
    "    patterns.append({\"label\": \"COMPANY\", \"pattern\": company})\n",
    "\n",
    "for ex in exhanges:\n",
    "    patterns.append({\"label\": \"STOCK_EXCHANGE\", \"pattern\": ex})\n",
    "\n",
    "for exm in exchange_names:\n",
    "    patterns.append({'label': 'STOCK_EXCHANGE', \"pattern\": exm})"
   ]
  },
  {
   "cell_type": "code",
   "execution_count": null,
   "id": "f3403406-484a-4d08-8299-d78428d843a7",
   "metadata": {},
   "outputs": [],
   "source": []
  },
  {
   "cell_type": "code",
   "execution_count": null,
   "id": "304d1331-e161-4fbd-ae28-3d4531be3b9e",
   "metadata": {},
   "outputs": [],
   "source": []
  },
  {
   "cell_type": "code",
   "execution_count": 10,
   "id": "392fe202-619e-43e4-957f-74211a3008e0",
   "metadata": {},
   "outputs": [],
   "source": [
    "url = \"https://finance.yahoo.com/news/top-stock-movers-now-humana-155227878.html\""
   ]
  },
  {
   "cell_type": "code",
   "execution_count": null,
   "id": "20f37386-1039-411f-95a0-c102580b8550",
   "metadata": {},
   "outputs": [],
   "source": []
  },
  {
   "cell_type": "code",
   "execution_count": 11,
   "id": "7b373253-6ce8-4a36-a849-dd303003ac38",
   "metadata": {},
   "outputs": [],
   "source": [
    "stock_url = \"https://finance.yahoo.com/news/live/stock-market-today-dow-tumbles-400-points-tech-leads-nasdaq-sp-500-lower-as-10-year-yield-tops-4-200136477.html\""
   ]
  }
 ],
 "metadata": {
  "kernelspec": {
   "display_name": "Python 3 (ipykernel)",
   "language": "python",
   "name": "python3"
  },
  "language_info": {
   "codemirror_mode": {
    "name": "ipython",
    "version": 3
   },
   "file_extension": ".py",
   "mimetype": "text/x-python",
   "name": "python",
   "nbconvert_exporter": "python",
   "pygments_lexer": "ipython3",
   "version": "3.11.2"
  }
 },
 "nbformat": 4,
 "nbformat_minor": 5
}
