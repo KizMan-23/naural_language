{
 "cells": [
  {
   "cell_type": "code",
   "execution_count": 1,
   "id": "b3ab7785-45f6-406c-9723-b88e486a115d",
   "metadata": {},
   "outputs": [],
   "source": [
    "import spacy\n",
    "import pandas as pd"
   ]
  },
  {
   "cell_type": "code",
   "execution_count": 5,
   "id": "7a4ef4fa-46ee-4db2-993b-e9aee826094e",
   "metadata": {},
   "outputs": [],
   "source": [
    "#source: https://www.reuters.com/business/futures-rise-after-biden-xi-call-oil-bounce-2021-09-10/\n",
    "text = '''\n",
    "Sept 10 (Reuters) - Wall Street's main indexes were subdued on Friday as signs of higher inflation and a drop in Apple shares following an unfavorable court ruling offset expectations of an easing in U.S.-China tensions.\n",
    "\n",
    "Data earlier in the day showed U.S. producer prices rose solidly in August, leading to the biggest annual gain in nearly 11 years and indicating that high inflation was likely to persist as the pandemic pressures supply chains. read more .\n",
    "\n",
    "\"Today's data on wholesale prices should be eye-opening for the Federal Reserve, as inflation pressures still don't appear to be easing and will likely continue to be felt by the consumer in the coming months,\" said Charlie Ripley, senior investment strategist for Allianz Investment Management.\n",
    "\n",
    "Apple Inc (AAPL.O) fell 2.7% following a U.S. court ruling in \"Fortnite\" creator Epic Games' antitrust lawsuit that stroke down some of the iPhone maker's restrictions on how developers can collect payments in apps.\n",
    "\n",
    "\n",
    "Sponsored by Advertising Partner\n",
    "Sponsored Video\n",
    "Watch to learn more\n",
    "Report ad\n",
    "Apple shares were set for their worst single-day fall since May this year, weighing on the Nasdaq (.IXIC) and the S&P 500 technology sub-index (.SPLRCT), which fell 0.1%.\n",
    "\n",
    "Sentiment also took a hit from Cleveland Federal Reserve Bank President Loretta Mester's comments that she would still like the central bank to begin tapering asset purchases this year despite the weak August jobs report. read more\n",
    "\n",
    "Investors have paid keen attention to the labor market and data hinting towards higher inflation recently for hints on a timeline for the Federal Reserve to begin tapering its massive bond-buying program.\n",
    "\n",
    "The S&P 500 has risen around 19% so far this year on support from dovish central bank policies and re-opening optimism, but concerns over rising coronavirus infections and accelerating inflation have lately stalled its advance.\n",
    "\n",
    "\n",
    "Report ad\n",
    "The three main U.S. indexes got some support on Friday from news of a phone call between U.S. President Joe Biden and Chinese leader Xi Jinping that was taken as a positive sign which could bring a thaw in ties between the world's two most important trading partners.\n",
    "\n",
    "At 1:01 p.m. ET, the Dow Jones Industrial Average (.DJI) was up 12.24 points, or 0.04%, at 34,891.62, the S&P 500 (.SPX) was up 2.83 points, or 0.06%, at 4,496.11, and the Nasdaq Composite (.IXIC) was up 12.85 points, or 0.08%, at 15,261.11.\n",
    "\n",
    "Six of the eleven S&P 500 sub-indexes gained, with energy (.SPNY), materials (.SPLRCM) and consumer discretionary stocks (.SPLRCD) rising the most.\n",
    "\n",
    "U.S.-listed Chinese e-commerce companies Alibaba and JD.com , music streaming company Tencent Music (TME.N) and electric car maker Nio Inc (NIO.N) all gained between 0.7% and 1.4%\n",
    "\n",
    "\n",
    "Report ad\n",
    "Grocer Kroger Co (KR.N) dropped 7.1% after it said global supply chain disruptions, freight costs, discounts and wastage would hit its profit margins.\n",
    "\n",
    "Advancing issues outnumbered decliners by a 1.12-to-1 ratio on the NYSE and by a 1.02-to-1 ratio on the Nasdaq.\n",
    "\n",
    "The S&P index recorded 14 new 52-week highs and three new lows, while the Nasdaq recorded 49 new highs and 38 new lows.\n",
    "'''"
   ]
  },
  {
   "cell_type": "markdown",
   "id": "71e3e58a-1c15-440a-8708-d36f6783eabe",
   "metadata": {},
   "source": [
    "TEST 1 ON SPACY STOCK ANALYSIS"
   ]
  },
  {
   "cell_type": "code",
   "execution_count": 6,
   "id": "6889e209-866d-4e40-a53b-b5b7e59382ad",
   "metadata": {},
   "outputs": [],
   "source": [
    "nlp = spacy.load(\"en_core_web_md\")"
   ]
  },
  {
   "cell_type": "code",
   "execution_count": 8,
   "id": "81df44bb-1f18-4e4a-8e5a-5d4334eb5f77",
   "metadata": {},
   "outputs": [],
   "source": [
    "doc = nlp(text)\n",
    "\n",
    "#EXTRACT ALL ENTITIES: COMPANIES, STOCK, INDEXES AND STOCK EXCHANGES"
   ]
  },
  {
   "cell_type": "code",
   "execution_count": 9,
   "id": "c3cc1483-4a20-44d0-b981-60fda9bb0851",
   "metadata": {
    "scrolled": true
   },
   "outputs": [
    {
     "name": "stdout",
     "output_type": "stream",
     "text": [
      "Sept 10 DATE\n",
      "Reuters ORG\n",
      "Friday DATE\n",
      "Apple ORG\n",
      "U.S.-China GPE\n",
      "Data ORG\n",
      "earlier in the day DATE\n",
      "U.S. GPE\n",
      "August DATE\n",
      "annual DATE\n",
      "nearly 11 years DATE\n",
      "Today WORK_OF_ART\n",
      "the Federal Reserve ORG\n",
      "the coming months DATE\n",
      "Charlie Ripley PERSON\n",
      "Allianz Investment Management ORG\n",
      "Apple Inc ORG\n",
      "AAPL.O ORG\n",
      "2.7% PERCENT\n",
      "U.S. GPE\n",
      "Fortnite WORK_OF_ART\n",
      "Epic Games' WORK_OF_ART\n",
      "iPhone ORG\n",
      "Apple ORG\n",
      "May this year DATE\n",
      ".IXIC CARDINAL\n",
      "0.1% PERCENT\n",
      "Cleveland Federal Reserve Bank ORG\n",
      "Loretta Mester's PERSON\n",
      "this year DATE\n",
      "August DATE\n",
      "the Federal Reserve ORG\n",
      "around 19% PERCENT\n",
      "this year DATE\n",
      "dovish central bank ORG\n",
      "three CARDINAL\n",
      "U.S. GPE\n",
      "Friday DATE\n",
      "U.S. GPE\n",
      "Joe Biden PERSON\n",
      "Chinese NORP\n",
      "Xi Jinping PERSON\n",
      "two CARDINAL\n",
      "1:01 p.m. ET TIME\n",
      "12.24 CARDINAL\n",
      "0.04% PERCENT\n",
      "34,891.62 ORG\n",
      "2.83 CARDINAL\n",
      "0.06% PERCENT\n",
      "4,496.11 CARDINAL\n",
      "12.85 CARDINAL\n",
      "0.08% PERCENT\n",
      "Six CARDINAL\n",
      "eleven CARDINAL\n",
      "Chinese NORP\n",
      "Alibaba ORG\n",
      "JD.com ORG\n",
      "Tencent Music ORG\n",
      "Nio Inc ORG\n",
      "NIO.N ORG\n",
      "between 0.7% and 1.4% PERCENT\n",
      "Grocer Kroger Co ORG\n",
      "7.1% PERCENT\n",
      "1.12 CARDINAL\n",
      "NYSE ORG\n",
      "1.02 CARDINAL\n",
      "Nasdaq ORG\n",
      "S&P ORG\n",
      "14 CARDINAL\n",
      "52-week DATE\n",
      "three CARDINAL\n",
      "Nasdaq ORG\n",
      "49 CARDINAL\n",
      "38 CARDINAL\n"
     ]
    }
   ],
   "source": [
    "for ent in doc.ents:\n",
    "    print(ent.text, ent.label_)\n",
    "\n",
    "#The Result of spacy is too broad"
   ]
  },
  {
   "cell_type": "code",
   "execution_count": null,
   "id": "451d3967-fcb4-4112-aa85-27846e4cf233",
   "metadata": {},
   "outputs": [],
   "source": []
  },
  {
   "cell_type": "markdown",
   "id": "c8b409d4-cb0d-4340-9603-28e83f00c6ae",
   "metadata": {},
   "source": [
    "OBTAIN NEEDED DOCUMENTS"
   ]
  },
  {
   "cell_type": "code",
   "execution_count": 116,
   "id": "713c9c8d-3bb4-4bf4-be8e-4cf17df07f6c",
   "metadata": {},
   "outputs": [
    {
     "name": "stdout",
     "output_type": "stream",
     "text": [
      "                 Exchange Name        Country    Code Currency Stocks\n",
      "0                       US OTC  United States     OTC      USD   7458\n",
      "1         Tokyo Stock Exchange          Japan     TYO      JPY   3873\n",
      "2          Nasdaq Stock Market  United States  NASDAQ      USD   3328\n",
      "3      Shenzhen Stock Exchange          China     SHE      CNY   2808\n",
      "4        Bombay Stock Exchange          India     BOM      INR   2577\n",
      "..                         ...            ...     ...      ...    ...\n",
      "107      Beirut Stock Exchange        Lebanon     BDB      LBP      8\n",
      "108  Bratislava Stock Exchange       Slovakia    BSSE      EUR      6\n",
      "109        PFTS Stock Exchange        Ukraine     UKR      UAH      6\n",
      "110                CBOE Europe         Europe    CHIX      EUR      5\n",
      "111    Zimbabwe Stock Exchange       Zimbabwe    ZMSE      ZWL      5\n",
      "\n",
      "[112 rows x 5 columns]\n"
     ]
    }
   ],
   "source": [
    "import requests\n",
    "from bs4 import BeautifulSoup\n",
    "import pandas as pd\n",
    "\n",
    "url = \"https://stockanalysis.com/list/exchanges/\"\n",
    "\n",
    "response = requests.get(url)\n",
    "\n",
    "if response.status_code == 200:\n",
    "    # Parse the HTML content\n",
    "    soup = BeautifulSoup(response.content, 'lxml')\n",
    "    table = soup.find('table')\n",
    "    headers = [header.text.strip() for header in table.find_all('th')]\n",
    "\n",
    "    # Extract rows\n",
    "    rows = []\n",
    "    for row in table.find_all('tr'):\n",
    "        columns = row.find_all('td')\n",
    "        if columns:\n",
    "            rows.append([column.text.strip() for column in columns])\n",
    "\n",
    "    df = pd.DataFrame(rows, columns=headers)\n",
    "\n",
    "    # Display the DataFrame\n",
    "    print(df)\n"
   ]
  },
  {
   "cell_type": "code",
   "execution_count": 118,
   "id": "b979aca5-5cb8-4875-8d42-e853478fab70",
   "metadata": {},
   "outputs": [],
   "source": [
    "df.to_csv(\"stock_exchanges.csv\", index=False)"
   ]
  },
  {
   "cell_type": "code",
   "execution_count": 121,
   "id": "10b4e0fc-1a77-4b3c-848e-6101b9ee5433",
   "metadata": {},
   "outputs": [],
   "source": [
    "#Scraping Data sector by sector\n",
    "finance_url = \"https://stockanalysis.com/stocks/sector/financials/\"\n",
    "\n",
    "response = requests.get(finance_url)\n",
    "soup = BeautifulSoup(response.content, 'lxml')\n",
    "table = soup.find('table')\n",
    "\n",
    "fin_headers = [header.text.strip() for header in table.find_all('th')]\n",
    "\n",
    "rows = []\n",
    "for row in table.find_all('tr'):\n",
    "    fin_columns = row.find_all('td')\n",
    "    if columns:\n",
    "        rows.append([column.text.strip() for column in fin_columns])\n",
    "\n",
    "fin_df = pd.DataFrame(rows, columns=fin_headers)"
   ]
  },
  {
   "cell_type": "code",
   "execution_count": null,
   "id": "19335ccf-a8a7-481a-bac1-ba3ce085a581",
   "metadata": {},
   "outputs": [],
   "source": []
  },
  {
   "cell_type": "code",
   "execution_count": null,
   "id": "46404eb7-9ea2-402e-9b12-239fcb51a30b",
   "metadata": {},
   "outputs": [],
   "source": []
  },
  {
   "cell_type": "code",
   "execution_count": null,
   "id": "91cc52e3-abc9-4524-96ed-0493f51b2a4d",
   "metadata": {},
   "outputs": [],
   "source": []
  },
  {
   "cell_type": "code",
   "execution_count": null,
   "id": "392fe202-619e-43e4-957f-74211a3008e0",
   "metadata": {},
   "outputs": [],
   "source": [
    "url = \"https://finance.yahoo.com/news/top-stock-movers-now-humana-155227878.html\""
   ]
  },
  {
   "cell_type": "code",
   "execution_count": null,
   "id": "20f37386-1039-411f-95a0-c102580b8550",
   "metadata": {},
   "outputs": [],
   "source": []
  },
  {
   "cell_type": "code",
   "execution_count": null,
   "id": "7b373253-6ce8-4a36-a849-dd303003ac38",
   "metadata": {},
   "outputs": [],
   "source": [
    "stock_url = \"https://finance.yahoo.com/news/live/stock-market-today-dow-tumbles-400-points-tech-leads-nasdaq-sp-500-lower-as-10-year-yield-tops-4-200136477.html\""
   ]
  }
 ],
 "metadata": {
  "kernelspec": {
   "display_name": "Python 3 (ipykernel)",
   "language": "python",
   "name": "python3"
  },
  "language_info": {
   "codemirror_mode": {
    "name": "ipython",
    "version": 3
   },
   "file_extension": ".py",
   "mimetype": "text/x-python",
   "name": "python",
   "nbconvert_exporter": "python",
   "pygments_lexer": "ipython3",
   "version": "3.11.2"
  }
 },
 "nbformat": 4,
 "nbformat_minor": 5
}
