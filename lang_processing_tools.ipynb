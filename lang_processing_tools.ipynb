{
 "cells": [
  {
   "cell_type": "code",
   "execution_count": 1,
   "id": "b3fa044a-b7bc-4acc-ab1f-562a68b9bca5",
   "metadata": {},
   "outputs": [],
   "source": [
    "import nltk"
   ]
  },
  {
   "cell_type": "code",
   "execution_count": 14,
   "id": "70083059-0937-4e95-acd1-3d52d3ab7a95",
   "metadata": {},
   "outputs": [],
   "source": [
    "from nltk.tokenize import word_tokenize\n",
    "from nltk.stem import PorterStemmer, SnowballStemmer\n",
    "\n",
    "#Re: Spacy abridged words and biagrams"
   ]
  },
  {
   "cell_type": "markdown",
   "id": "afca37ea-6dac-46a8-acdf-767e0d78763f",
   "metadata": {},
   "source": [
    "STEMMING/LEMMATIZATION"
   ]
  },
  {
   "cell_type": "code",
   "execution_count": 3,
   "id": "0dff9465-2ebd-488b-88d6-16d1af82c3bf",
   "metadata": {},
   "outputs": [],
   "source": [
    "stemmer = PorterStemmer()"
   ]
  },
  {
   "cell_type": "code",
   "execution_count": 4,
   "id": "7b2a7b37-bf83-4a54-bff0-9ee015e1e1bc",
   "metadata": {},
   "outputs": [
    {
     "name": "stderr",
     "output_type": "stream",
     "text": [
      "[nltk_data] Downloading package punkt_tab to C:\\Users\\Hp\n",
      "[nltk_data]     Pc\\AppData\\Roaming\\nltk_data...\n",
      "[nltk_data]   Package punkt_tab is already up-to-date!\n"
     ]
    },
    {
     "data": {
      "text/plain": [
       "True"
      ]
     },
     "execution_count": 4,
     "metadata": {},
     "output_type": "execute_result"
    }
   ],
   "source": [
    "nltk.download('punkt_tab')"
   ]
  },
  {
   "cell_type": "code",
   "execution_count": 12,
   "id": "7948134c-88fe-4303-836d-96876e3c4c3d",
   "metadata": {},
   "outputs": [],
   "source": [
    "phrase = 'Caressing her bodies'\n",
    "\n",
    "tokens = word_tokenize(phrase)\n",
    "stem = [stemmer.stem(word) for word in tokens]"
   ]
  },
  {
   "cell_type": "code",
   "execution_count": 15,
   "id": "b2d44645-a5d3-40b3-89f9-01886d9d1d9d",
   "metadata": {},
   "outputs": [
    {
     "data": {
      "text/plain": [
       "['caress', 'her', 'bodi']"
      ]
     },
     "execution_count": 15,
     "metadata": {},
     "output_type": "execute_result"
    }
   ],
   "source": [
    "stem"
   ]
  },
  {
   "cell_type": "code",
   "execution_count": 18,
   "id": "78f86f94-9ac2-404d-a026-058b4ef03327",
   "metadata": {},
   "outputs": [],
   "source": [
    "s_stemmer = SnowballStemmer('english')\n",
    "\n",
    "tokens = word_tokenize(phrase)\n",
    "\n",
    "s_stem = [s_stemmer.stem(word) for word in tokens]"
   ]
  },
  {
   "cell_type": "code",
   "execution_count": 19,
   "id": "3a2bf76b-562a-453b-97c0-e8ebb67fee41",
   "metadata": {},
   "outputs": [
    {
     "data": {
      "text/plain": [
       "['caress', 'her', 'bodi']"
      ]
     },
     "execution_count": 19,
     "metadata": {},
     "output_type": "execute_result"
    }
   ],
   "source": [
    "s_stem"
   ]
  },
  {
   "cell_type": "code",
   "execution_count": null,
   "id": "ffe4f6ad-5423-4790-b1d4-fb12034913db",
   "metadata": {},
   "outputs": [],
   "source": [
    "import nltk\n",
    "from nltk.stem import WordNetLemmatizer\n",
    "\n",
    "nltk.download('wordnet')\n",
    "nltk.download('omw-1.4')"
   ]
  },
  {
   "cell_type": "code",
   "execution_count": 23,
   "id": "beb610c4-105e-4585-aa65-21d742d22c07",
   "metadata": {},
   "outputs": [
    {
     "name": "stdout",
     "output_type": "stream",
     "text": [
      "['running', 'ran', 'run', 'easily', 'fairly']\n"
     ]
    },
    {
     "name": "stderr",
     "output_type": "stream",
     "text": [
      "[nltk_data] Downloading package wordnet to C:\\Users\\Hp\n",
      "[nltk_data]     Pc\\AppData\\Roaming\\nltk_data...\n",
      "[nltk_data]   Package wordnet is already up-to-date!\n",
      "[nltk_data] Downloading package omw-1.4 to C:\\Users\\Hp\n",
      "[nltk_data]     Pc\\AppData\\Roaming\\nltk_data...\n",
      "[nltk_data]   Package omw-1.4 is already up-to-date!\n"
     ]
    }
   ],
   "source": [
    "lemmatizer = WordNetLemmatizer()\n",
    "\n",
    "words = [\"running\", \"ran\", \"runs\", \"easily\", \"fairly\"]\n",
    "\n",
    "\n",
    "lem_words = [lemmatizer.lemmatize(word) for word in words]\n",
    "\n",
    "print(lemmatized_words)\n"
   ]
  },
  {
   "cell_type": "code",
   "execution_count": null,
   "id": "15e1934b-fbf4-44cc-aae0-9433f9549647",
   "metadata": {},
   "outputs": [],
   "source": []
  },
  {
   "cell_type": "code",
   "execution_count": 24,
   "id": "625ec8bb-6c9f-4871-86b6-4592114a3e8c",
   "metadata": {},
   "outputs": [],
   "source": [
    "#stem/lemmatizer on spicy"
   ]
  },
  {
   "cell_type": "markdown",
   "id": "70193c64-b168-42fd-a6cb-b328aa70f779",
   "metadata": {},
   "source": [
    "STOP_WORDS"
   ]
  },
  {
   "cell_type": "code",
   "execution_count": null,
   "id": "2b61020f-6690-4f8c-81e2-872167048845",
   "metadata": {},
   "outputs": [],
   "source": []
  }
 ],
 "metadata": {
  "kernelspec": {
   "display_name": "Python 3 (ipykernel)",
   "language": "python",
   "name": "python3"
  },
  "language_info": {
   "codemirror_mode": {
    "name": "ipython",
    "version": 3
   },
   "file_extension": ".py",
   "mimetype": "text/x-python",
   "name": "python",
   "nbconvert_exporter": "python",
   "pygments_lexer": "ipython3",
   "version": "3.11.2"
  }
 },
 "nbformat": 4,
 "nbformat_minor": 5
}
