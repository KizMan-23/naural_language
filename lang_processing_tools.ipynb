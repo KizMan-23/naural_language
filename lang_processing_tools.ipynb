{
 "cells": [
  {
   "cell_type": "code",
   "execution_count": 1,
   "id": "b3fa044a-b7bc-4acc-ab1f-562a68b9bca5",
   "metadata": {},
   "outputs": [],
   "source": [
    "import nltk\n",
    "import json"
   ]
  },
  {
   "cell_type": "code",
   "execution_count": 57,
   "id": "70083059-0937-4e95-acd1-3d52d3ab7a95",
   "metadata": {},
   "outputs": [],
   "source": [
    "from nltk.tokenize import word_tokenize,wordpunct_tokenize, sent_tokenize\n",
    "from nltk.stem import PorterStemmer, SnowballStemmer,RegexpStemmer\n",
    "\n",
    "#Re: Spacy abridged words and biagrams"
   ]
  },
  {
   "cell_type": "code",
   "execution_count": 22,
   "id": "55f2c383-e2d5-4bf7-8638-8612199f57e7",
   "metadata": {},
   "outputs": [],
   "source": [
    "file_name = \"C:/Users/Hp Pc/Downloads/Books_small_10000.json\"\n",
    "\n",
    "reviews = []\n",
    "with open(file_name) as f:\n",
    "    for line in f:\n",
    "        review = json.loads(line)\n",
    "        reviews.append((review['reviewText'], review['overall']))\n",
    "        "
   ]
  },
  {
   "cell_type": "code",
   "execution_count": 23,
   "id": "34f79a40-b187-4f86-859c-e2aee1e2a9eb",
   "metadata": {},
   "outputs": [
    {
     "data": {
      "text/plain": [
       "(\"I bought both boxed sets, books 1-5.  Really a great series!  Start book 1 three weeks ago and just finished book 5.  Sloane Monroe is a great character and being able to follow her through both private life and her PI life gets a reader very involved!  Although clues may be right in front of the reader, there are twists and turns that keep one guessing until the last page!  These are books you won't be disappointed with.\",\n",
       " 5.0)"
      ]
     },
     "execution_count": 23,
     "metadata": {},
     "output_type": "execute_result"
    }
   ],
   "source": [
    "reviews[0]"
   ]
  },
  {
   "cell_type": "markdown",
   "id": "afca37ea-6dac-46a8-acdf-767e0d78763f",
   "metadata": {},
   "source": [
    "STEMMING/LEMMATIZATION"
   ]
  },
  {
   "cell_type": "code",
   "execution_count": 24,
   "id": "0dff9465-2ebd-488b-88d6-16d1af82c3bf",
   "metadata": {},
   "outputs": [],
   "source": [
    "stemmer = PorterStemmer()"
   ]
  },
  {
   "cell_type": "code",
   "execution_count": 8,
   "id": "7b2a7b37-bf83-4a54-bff0-9ee015e1e1bc",
   "metadata": {},
   "outputs": [
    {
     "name": "stderr",
     "output_type": "stream",
     "text": [
      "[nltk_data] Error loading punkt_tab: <urlopen error [Errno 11001]\n",
      "[nltk_data]     getaddrinfo failed>\n"
     ]
    },
    {
     "data": {
      "text/plain": [
       "False"
      ]
     },
     "execution_count": 8,
     "metadata": {},
     "output_type": "execute_result"
    }
   ],
   "source": [
    "nltk.download('punkt_tab')"
   ]
  },
  {
   "cell_type": "code",
   "execution_count": 34,
   "id": "7948134c-88fe-4303-836d-96876e3c4c3d",
   "metadata": {},
   "outputs": [],
   "source": [
    "phrase = \"\"\"Caressing her bodies fairly' temprature' goes habitaing \"\"\"\n",
    "\n",
    "tokens = word_tokenize(phrase)\n",
    "p_tokens = wordpunct_tokenize(phrase)\n",
    "\n",
    "P_stem = [stemmer.stem(word) for word in p_tokens]\n",
    "\n",
    "stem = [stemmer.stem(word) for word in tokens]"
   ]
  },
  {
   "cell_type": "code",
   "execution_count": 35,
   "id": "b2d44645-a5d3-40b3-89f9-01886d9d1d9d",
   "metadata": {},
   "outputs": [
    {
     "name": "stdout",
     "output_type": "stream",
     "text": [
      "['caress', 'her', 'bodi', 'fairli', \"'\", 'tempratur', \"'\", 'goe', 'habita']\n",
      "['caress', 'her', 'bodi', 'fairli', \"'\", 'tempratur', \"'\", 'goe', 'habita']\n"
     ]
    }
   ],
   "source": [
    "print(P_stem)\n",
    "print(stem)"
   ]
  },
  {
   "cell_type": "code",
   "execution_count": 36,
   "id": "78f86f94-9ac2-404d-a026-058b4ef03327",
   "metadata": {},
   "outputs": [],
   "source": [
    "s_stemmer = SnowballStemmer('english')\n",
    "\n",
    "tokens = word_tokenize(phrase)\n",
    "\n",
    "s_stem = [s_stemmer.stem(word) for word in tokens]"
   ]
  },
  {
   "cell_type": "code",
   "execution_count": 37,
   "id": "3a2bf76b-562a-453b-97c0-e8ebb67fee41",
   "metadata": {},
   "outputs": [
    {
     "data": {
      "text/plain": [
       "['caress', 'her', 'bodi', 'fair', \"'\", 'tempratur', \"'\", 'goe', 'habita']"
      ]
     },
     "execution_count": 37,
     "metadata": {},
     "output_type": "execute_result"
    }
   ],
   "source": [
    "s_stem"
   ]
  },
  {
   "cell_type": "code",
   "execution_count": 40,
   "id": "7199b648-41c6-489b-9b6a-b11a6c4304ee",
   "metadata": {},
   "outputs": [],
   "source": [
    "regex_stemmer = RegexpStemmer('ing$|s$|e$|able$', min=4) #regex condition can be changed to different formats"
   ]
  },
  {
   "cell_type": "code",
   "execution_count": 41,
   "id": "5a5bdf28-5682-4a56-ba29-0b3af380bdde",
   "metadata": {},
   "outputs": [
    {
     "data": {
      "text/plain": [
       "['Caress', 'her', 'bodie', 'fairly', \"'\", 'tempratur', \"'\", 'goe', 'habita']"
      ]
     },
     "execution_count": 41,
     "metadata": {},
     "output_type": "execute_result"
    }
   ],
   "source": [
    "re_st = [regex_stemmer.stem(word) for word in tokens]\n",
    "re_st"
   ]
  },
  {
   "cell_type": "code",
   "execution_count": null,
   "id": "31a95ea4-2aa0-488f-898b-4d88be46572e",
   "metadata": {},
   "outputs": [],
   "source": []
  },
  {
   "cell_type": "code",
   "execution_count": 42,
   "id": "ffe4f6ad-5423-4790-b1d4-fb12034913db",
   "metadata": {},
   "outputs": [
    {
     "name": "stderr",
     "output_type": "stream",
     "text": [
      "[nltk_data] Error loading wordnet: <urlopen error [Errno 11001]\n",
      "[nltk_data]     getaddrinfo failed>\n",
      "[nltk_data] Error loading omw-1.4: <urlopen error [Errno 11001]\n",
      "[nltk_data]     getaddrinfo failed>\n"
     ]
    },
    {
     "data": {
      "text/plain": [
       "False"
      ]
     },
     "execution_count": 42,
     "metadata": {},
     "output_type": "execute_result"
    }
   ],
   "source": [
    "import nltk\n",
    "from nltk.stem import WordNetLemmatizer\n",
    "\n",
    "nltk.download('wordnet')\n",
    "nltk.download('omw-1.4')"
   ]
  },
  {
   "cell_type": "code",
   "execution_count": 51,
   "id": "beb610c4-105e-4585-aa65-21d742d22c07",
   "metadata": {},
   "outputs": [
    {
     "name": "stdout",
     "output_type": "stream",
     "text": [
      "['run', 'run', 'run', 'easily', 'fairly', 'best', 'better', 'goodness', 'worst', 'worse']\n"
     ]
    }
   ],
   "source": [
    "lemmatizer = WordNetLemmatizer()\n",
    "\n",
    "words = [\"running\", \"ran\", \"runs\", \"easily\", \"fairly\",'best', 'better', 'goodness', 'worst', 'worse']\n",
    "\n",
    "\n",
    "lemm_words = [lemmatizer.lemmatize(word,pos='v') for word in words]\n",
    "\n",
    "print(lemm_words)\n"
   ]
  },
  {
   "cell_type": "code",
   "execution_count": null,
   "id": "625ec8bb-6c9f-4871-86b6-4592114a3e8c",
   "metadata": {},
   "outputs": [],
   "source": [
    "#stem/lemmatizer on spicy"
   ]
  },
  {
   "cell_type": "markdown",
   "id": "70193c64-b168-42fd-a6cb-b328aa70f779",
   "metadata": {},
   "source": [
    "STOP_WORDS"
   ]
  },
  {
   "cell_type": "code",
   "execution_count": 52,
   "id": "2b61020f-6690-4f8c-81e2-872167048845",
   "metadata": {},
   "outputs": [],
   "source": [
    "from nltk.corpus import stopwords"
   ]
  },
  {
   "cell_type": "code",
   "execution_count": 53,
   "id": "e5651be0-d93e-43c1-90a5-bb96adf1475d",
   "metadata": {},
   "outputs": [
    {
     "name": "stderr",
     "output_type": "stream",
     "text": [
      "[nltk_data] Error loading stopwords: <urlopen error [Errno 11001]\n",
      "[nltk_data]     getaddrinfo failed>\n"
     ]
    },
    {
     "data": {
      "text/plain": [
       "False"
      ]
     },
     "execution_count": 53,
     "metadata": {},
     "output_type": "execute_result"
    }
   ],
   "source": [
    "nltk.download('stopwords')"
   ]
  },
  {
   "cell_type": "code",
   "execution_count": 56,
   "id": "41c82742-4314-482a-a294-8159883151c1",
   "metadata": {
    "scrolled": true
   },
   "outputs": [
    {
     "data": {
      "text/plain": [
       "['i',\n",
       " 'me',\n",
       " 'my',\n",
       " 'myself',\n",
       " 'we',\n",
       " 'our',\n",
       " 'ours',\n",
       " 'ourselves',\n",
       " 'you',\n",
       " \"you're\",\n",
       " \"you've\",\n",
       " \"you'll\",\n",
       " \"you'd\",\n",
       " 'your',\n",
       " 'yours',\n",
       " 'yourself',\n",
       " 'yourselves',\n",
       " 'he',\n",
       " 'him',\n",
       " 'his',\n",
       " 'himself',\n",
       " 'she',\n",
       " \"she's\",\n",
       " 'her',\n",
       " 'hers',\n",
       " 'herself',\n",
       " 'it',\n",
       " \"it's\",\n",
       " 'its',\n",
       " 'itself',\n",
       " 'they',\n",
       " 'them',\n",
       " 'their',\n",
       " 'theirs',\n",
       " 'themselves',\n",
       " 'what',\n",
       " 'which',\n",
       " 'who',\n",
       " 'whom',\n",
       " 'this',\n",
       " 'that',\n",
       " \"that'll\",\n",
       " 'these',\n",
       " 'those',\n",
       " 'am',\n",
       " 'is',\n",
       " 'are',\n",
       " 'was',\n",
       " 'were',\n",
       " 'be',\n",
       " 'been',\n",
       " 'being',\n",
       " 'have',\n",
       " 'has',\n",
       " 'had',\n",
       " 'having',\n",
       " 'do',\n",
       " 'does',\n",
       " 'did',\n",
       " 'doing',\n",
       " 'a',\n",
       " 'an',\n",
       " 'the',\n",
       " 'and',\n",
       " 'but',\n",
       " 'if',\n",
       " 'or',\n",
       " 'because',\n",
       " 'as',\n",
       " 'until',\n",
       " 'while',\n",
       " 'of',\n",
       " 'at',\n",
       " 'by',\n",
       " 'for',\n",
       " 'with',\n",
       " 'about',\n",
       " 'against',\n",
       " 'between',\n",
       " 'into',\n",
       " 'through',\n",
       " 'during',\n",
       " 'before',\n",
       " 'after',\n",
       " 'above',\n",
       " 'below',\n",
       " 'to',\n",
       " 'from',\n",
       " 'up',\n",
       " 'down',\n",
       " 'in',\n",
       " 'out',\n",
       " 'on',\n",
       " 'off',\n",
       " 'over',\n",
       " 'under',\n",
       " 'again',\n",
       " 'further',\n",
       " 'then',\n",
       " 'once',\n",
       " 'here',\n",
       " 'there',\n",
       " 'when',\n",
       " 'where',\n",
       " 'why',\n",
       " 'how',\n",
       " 'all',\n",
       " 'any',\n",
       " 'both',\n",
       " 'each',\n",
       " 'few',\n",
       " 'more',\n",
       " 'most',\n",
       " 'other',\n",
       " 'some',\n",
       " 'such',\n",
       " 'no',\n",
       " 'nor',\n",
       " 'not',\n",
       " 'only',\n",
       " 'own',\n",
       " 'same',\n",
       " 'so',\n",
       " 'than',\n",
       " 'too',\n",
       " 'very',\n",
       " 's',\n",
       " 't',\n",
       " 'can',\n",
       " 'will',\n",
       " 'just',\n",
       " 'don',\n",
       " \"don't\",\n",
       " 'should',\n",
       " \"should've\",\n",
       " 'now',\n",
       " 'd',\n",
       " 'll',\n",
       " 'm',\n",
       " 'o',\n",
       " 're',\n",
       " 've',\n",
       " 'y',\n",
       " 'ain',\n",
       " 'aren',\n",
       " \"aren't\",\n",
       " 'couldn',\n",
       " \"couldn't\",\n",
       " 'didn',\n",
       " \"didn't\",\n",
       " 'doesn',\n",
       " \"doesn't\",\n",
       " 'hadn',\n",
       " \"hadn't\",\n",
       " 'hasn',\n",
       " \"hasn't\",\n",
       " 'haven',\n",
       " \"haven't\",\n",
       " 'isn',\n",
       " \"isn't\",\n",
       " 'ma',\n",
       " 'mightn',\n",
       " \"mightn't\",\n",
       " 'mustn',\n",
       " \"mustn't\",\n",
       " 'needn',\n",
       " \"needn't\",\n",
       " 'shan',\n",
       " \"shan't\",\n",
       " 'shouldn',\n",
       " \"shouldn't\",\n",
       " 'wasn',\n",
       " \"wasn't\",\n",
       " 'weren',\n",
       " \"weren't\",\n",
       " 'won',\n",
       " \"won't\",\n",
       " 'wouldn',\n",
       " \"wouldn't\"]"
      ]
     },
     "execution_count": 56,
     "metadata": {},
     "output_type": "execute_result"
    }
   ],
   "source": [
    "stopwords.words('english')"
   ]
  },
  {
   "cell_type": "code",
   "execution_count": 61,
   "id": "3cd64060-15c9-4dcd-bae7-8571706c38c1",
   "metadata": {},
   "outputs": [
    {
     "data": {
      "text/plain": [
       "\"I bought both boxed sets, books 1-5.  Really a great series!  Start book 1 three weeks ago and just finished book 5.  Sloane Monroe is a great character and being able to follow her through both private life and her PI life gets a reader very involved!  Although clues may be right in front of the reader, there are twists and turns that keep one guessing until the last page!  These are books you won't be disappointed with.\""
      ]
     },
     "execution_count": 61,
     "metadata": {},
     "output_type": "execute_result"
    }
   ],
   "source": [
    "reviews[0][0]"
   ]
  },
  {
   "cell_type": "code",
   "execution_count": 62,
   "id": "487b6923-db32-45a3-bf34-1d1c2eb17c1e",
   "metadata": {},
   "outputs": [],
   "source": [
    "re_tokens = word_tokenize(reviews[0][0])"
   ]
  },
  {
   "cell_type": "code",
   "execution_count": 63,
   "id": "13d710c4-594c-44bb-9ae4-3b4268530eb2",
   "metadata": {
    "scrolled": true
   },
   "outputs": [
    {
     "data": {
      "text/plain": [
       "['I',\n",
       " 'bought',\n",
       " 'both',\n",
       " 'boxed',\n",
       " 'sets',\n",
       " ',',\n",
       " 'books',\n",
       " '1-5',\n",
       " '.',\n",
       " 'Really',\n",
       " 'a',\n",
       " 'great',\n",
       " 'series',\n",
       " '!',\n",
       " 'Start',\n",
       " 'book',\n",
       " '1',\n",
       " 'three',\n",
       " 'weeks',\n",
       " 'ago',\n",
       " 'and',\n",
       " 'just',\n",
       " 'finished',\n",
       " 'book',\n",
       " '5',\n",
       " '.',\n",
       " 'Sloane',\n",
       " 'Monroe',\n",
       " 'is',\n",
       " 'a',\n",
       " 'great',\n",
       " 'character',\n",
       " 'and',\n",
       " 'being',\n",
       " 'able',\n",
       " 'to',\n",
       " 'follow',\n",
       " 'her',\n",
       " 'through',\n",
       " 'both',\n",
       " 'private',\n",
       " 'life',\n",
       " 'and',\n",
       " 'her',\n",
       " 'PI',\n",
       " 'life',\n",
       " 'gets',\n",
       " 'a',\n",
       " 'reader',\n",
       " 'very',\n",
       " 'involved',\n",
       " '!',\n",
       " 'Although',\n",
       " 'clues',\n",
       " 'may',\n",
       " 'be',\n",
       " 'right',\n",
       " 'in',\n",
       " 'front',\n",
       " 'of',\n",
       " 'the',\n",
       " 'reader',\n",
       " ',',\n",
       " 'there',\n",
       " 'are',\n",
       " 'twists',\n",
       " 'and',\n",
       " 'turns',\n",
       " 'that',\n",
       " 'keep',\n",
       " 'one',\n",
       " 'guessing',\n",
       " 'until',\n",
       " 'the',\n",
       " 'last',\n",
       " 'page',\n",
       " '!',\n",
       " 'These',\n",
       " 'are',\n",
       " 'books',\n",
       " 'you',\n",
       " 'wo',\n",
       " \"n't\",\n",
       " 'be',\n",
       " 'disappointed',\n",
       " 'with',\n",
       " '.']"
      ]
     },
     "execution_count": 63,
     "metadata": {},
     "output_type": "execute_result"
    }
   ],
   "source": [
    "re_tokens"
   ]
  },
  {
   "cell_type": "code",
   "execution_count": 82,
   "id": "de6e8c5a-182c-48d8-9d31-e9a0319935e2",
   "metadata": {
    "scrolled": true
   },
   "outputs": [
    {
     "name": "stdout",
     "output_type": "stream",
     "text": [
      "I\n",
      "bought\n",
      "boxed\n",
      "sets\n",
      ",\n",
      "books\n",
      "1-5\n",
      ".\n",
      "Really\n",
      "great\n",
      "series\n",
      "!\n",
      "Start\n",
      "book\n",
      "1\n",
      "three\n",
      "weeks\n",
      "ago\n",
      "finished\n",
      "book\n",
      "5\n",
      ".\n",
      "Sloane\n",
      "Monroe\n",
      "great\n",
      "character\n",
      "able\n",
      "follow\n",
      "private\n",
      "life\n",
      "PI\n",
      "life\n",
      "gets\n",
      "reader\n",
      "involved\n",
      "!\n",
      "Although\n",
      "clues\n",
      "may\n",
      "right\n",
      "front\n",
      "reader\n",
      ",\n",
      "twists\n",
      "turns\n",
      "keep\n",
      "one\n",
      "guessing\n",
      "last\n",
      "page\n",
      "!\n",
      "These\n",
      "books\n",
      "wo\n",
      "n't\n",
      "disappointed\n",
      ".\n"
     ]
    }
   ],
   "source": [
    "#filtering with stopwords\n",
    "filter_review = []\n",
    "for word in re_tokens:\n",
    "    if word not in set(stopwords.words('english')):\n",
    "        print(word)\n",
    "        filter_review.append(s_stemmer.stem(word))"
   ]
  },
  {
   "cell_type": "code",
   "execution_count": 84,
   "id": "6cd275c2-1801-4024-bdf4-e2ba7dfffc69",
   "metadata": {},
   "outputs": [
    {
     "data": {
      "text/plain": [
       "\"i bought box set , book 1-5 . realli great seri ! start book 1 three week ago finish book 5 . sloan monro great charact abl follow privat life pi life get reader involv ! although clue may right front reader , twist turn keep one guess last page ! these book wo n't disappoint .\""
      ]
     },
     "execution_count": 84,
     "metadata": {},
     "output_type": "execute_result"
    }
   ],
   "source": [
    "\" \".join(filter_review)"
   ]
  },
  {
   "cell_type": "code",
   "execution_count": 85,
   "id": "f5687af3-600b-431b-b19c-1afe90174588",
   "metadata": {},
   "outputs": [
    {
     "data": {
      "text/plain": [
       "\"I bought both boxed sets, books 1-5.  Really a great series!  Start book 1 three weeks ago and just finished book 5.  Sloane Monroe is a great character and being able to follow her through both private life and her PI life gets a reader very involved!  Although clues may be right in front of the reader, there are twists and turns that keep one guessing until the last page!  These are books you won't be disappointed with.\""
      ]
     },
     "execution_count": 85,
     "metadata": {},
     "output_type": "execute_result"
    }
   ],
   "source": [
    "reviews[0][0]"
   ]
  },
  {
   "cell_type": "code",
   "execution_count": 89,
   "id": "0498fd71-3317-4f99-9cbb-d36c48fbf25a",
   "metadata": {
    "scrolled": true
   },
   "outputs": [
    {
     "name": "stdout",
     "output_type": "stream",
     "text": [
      "I\n",
      "bought\n",
      "boxed\n",
      "sets\n",
      ",\n",
      "books\n",
      "1-5\n",
      ".\n",
      "Really\n",
      "great\n",
      "series\n",
      "!\n",
      "Start\n",
      "book\n",
      "1\n",
      "three\n",
      "weeks\n",
      "ago\n",
      "finished\n",
      "book\n",
      "5\n",
      ".\n",
      "Sloane\n",
      "Monroe\n",
      "great\n",
      "character\n",
      "able\n",
      "follow\n",
      "private\n",
      "life\n",
      "PI\n",
      "life\n",
      "gets\n",
      "reader\n",
      "involved\n",
      "!\n",
      "Although\n",
      "clues\n",
      "may\n",
      "right\n",
      "front\n",
      "reader\n",
      ",\n",
      "twists\n",
      "turns\n",
      "keep\n",
      "one\n",
      "guessing\n",
      "last\n",
      "page\n",
      "!\n",
      "These\n",
      "books\n",
      "wo\n",
      "n't\n",
      "disappointed\n",
      ".\n"
     ]
    }
   ],
   "source": [
    "filtered_review = []\n",
    "for word in re_tokens:\n",
    "    if word not in set(stopwords.words('english')):\n",
    "        print(word)\n",
    "        filtered_review.append(lemmatizer.lemmatize(word,pos='v'))"
   ]
  },
  {
   "cell_type": "code",
   "execution_count": 90,
   "id": "9b91d9ad-f8f4-42ec-9fc0-60f108cedfb1",
   "metadata": {},
   "outputs": [
    {
     "data": {
      "text/plain": [
       "\"I buy box set , book 1-5 . Really great series ! Start book 1 three weeks ago finish book 5 . Sloane Monroe great character able follow private life PI life get reader involve ! Although clue may right front reader , twist turn keep one guess last page ! These book wo n't disappoint .\""
      ]
     },
     "execution_count": 90,
     "metadata": {},
     "output_type": "execute_result"
    }
   ],
   "source": [
    "\" \".join(filtered_review)"
   ]
  },
  {
   "cell_type": "code",
   "execution_count": 88,
   "id": "81c91dc1-40fd-4c41-861f-31f11389a37b",
   "metadata": {},
   "outputs": [
    {
     "data": {
      "text/plain": [
       "\"I bought both boxed sets, books 1-5.  Really a great series!  Start book 1 three weeks ago and just finished book 5.  Sloane Monroe is a great character and being able to follow her through both private life and her PI life gets a reader very involved!  Although clues may be right in front of the reader, there are twists and turns that keep one guessing until the last page!  These are books you won't be disappointed with.\""
      ]
     },
     "execution_count": 88,
     "metadata": {},
     "output_type": "execute_result"
    }
   ],
   "source": [
    "reviews[0][0]"
   ]
  },
  {
   "cell_type": "code",
   "execution_count": null,
   "id": "8b3756ed-fde7-493e-aede-eafc7adad063",
   "metadata": {},
   "outputs": [],
   "source": []
  },
  {
   "cell_type": "markdown",
   "id": "1c18d611-3f4f-482f-a574-4608e2db0e11",
   "metadata": {},
   "source": [
    "PART_OF_SPEECH TAG (POS)"
   ]
  },
  {
   "cell_type": "code",
   "execution_count": 95,
   "id": "707ad391-682a-4191-b9d0-1d81afc7eb23",
   "metadata": {},
   "outputs": [
    {
     "name": "stderr",
     "output_type": "stream",
     "text": [
      "[nltk_data] Downloading package averaged_perceptron_tagger_eng to\n",
      "[nltk_data]     C:\\Users\\Hp Pc\\AppData\\Roaming\\nltk_data...\n",
      "[nltk_data]   Unzipping taggers\\averaged_perceptron_tagger_eng.zip.\n"
     ]
    },
    {
     "data": {
      "text/plain": [
       "True"
      ]
     },
     "execution_count": 95,
     "metadata": {},
     "output_type": "execute_result"
    }
   ],
   "source": [
    "nltk.download('averaged_perceptron_tagger_eng')"
   ]
  },
  {
   "cell_type": "code",
   "execution_count": null,
   "id": "e7356bbd-2f65-4c7c-858f-82d27ef8f927",
   "metadata": {},
   "outputs": [],
   "source": [
    "pos_tag = []\n",
    "for word in re_tokens:\n",
    "    if word not in set(stopwords.words('english')):\n",
    "        nltk.pos_tag(word)\n"
   ]
  },
  {
   "cell_type": "code",
   "execution_count": null,
   "id": "09c0c629-0473-451d-932a-12ae7a62f804",
   "metadata": {},
   "outputs": [],
   "source": [
    "#for words in re_tokens:\n",
    "word = [word for word in re_tokens not in set(stopwords.words('english'))]\n",
    "pos_word = nltk.pos_tag(word)\n",
    "print(pos_word)"
   ]
  },
  {
   "cell_type": "code",
   "execution_count": null,
   "id": "732cf166-1550-4807-8d8e-7b2d469fc564",
   "metadata": {},
   "outputs": [],
   "source": []
  }
 ],
 "metadata": {
  "kernelspec": {
   "display_name": "Python 3 (ipykernel)",
   "language": "python",
   "name": "python3"
  },
  "language_info": {
   "codemirror_mode": {
    "name": "ipython",
    "version": 3
   },
   "file_extension": ".py",
   "mimetype": "text/x-python",
   "name": "python",
   "nbconvert_exporter": "python",
   "pygments_lexer": "ipython3",
   "version": "3.11.2"
  }
 },
 "nbformat": 4,
 "nbformat_minor": 5
}
